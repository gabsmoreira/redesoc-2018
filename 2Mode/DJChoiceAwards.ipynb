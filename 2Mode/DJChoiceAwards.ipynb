{
 "cells": [
  {
   "cell_type": "code",
   "execution_count": 1,
   "metadata": {},
   "outputs": [
    {
     "data": {
      "text/html": [
       "<script>requirejs.config({paths: { 'plotly': ['https://cdn.plot.ly/plotly-latest.min']},});if(!window.Plotly) {{require(['plotly'],function(plotly) {window.Plotly=plotly;});}}</script>"
      ],
      "text/vnd.plotly.v1+html": [
       "<script>requirejs.config({paths: { 'plotly': ['https://cdn.plot.ly/plotly-latest.min']},});if(!window.Plotly) {{require(['plotly'],function(plotly) {window.Plotly=plotly;});}}</script>"
      ]
     },
     "metadata": {},
     "output_type": "display_data"
    }
   ],
   "source": [
    "import sys\n",
    "sys.path.append('..')\n",
    "\n",
    "from random import choice\n",
    "from itertools import permutations\n",
    "\n",
    "import pandas as pd\n",
    "import networkx as nx\n",
    "\n",
    "import socnet as sn\n",
    "from tqdm import tqdm\n",
    "import matplotlib.pyplot as plt\n"
   ]
  },
  {
   "cell_type": "code",
   "execution_count": 2,
   "metadata": {},
   "outputs": [],
   "source": [
    "# sn.node_size = 10\n",
    "# sn.node_color = (255, 255, 255)\n",
    "\n",
    "# sn.edge_width = 1\n",
    "# sn.edge_color = (192, 192, 192)\n",
    "\n",
    "# sn.node_label_position = 'top center'"
   ]
  },
  {
   "cell_type": "code",
   "execution_count": 3,
   "metadata": {},
   "outputs": [],
   "source": [
    "one_mode = sn.load_graph('one-mode.gml')\n",
    "\n",
    "# sn.show_graph(one_mode, nlab=True)"
   ]
  },
  {
   "cell_type": "code",
   "execution_count": 4,
   "metadata": {},
   "outputs": [],
   "source": [
    "two_mode = sn.load_graph('two-mode.gml')\n",
    "\n",
    "graph_teste = two_mode.copy()\n",
    "\n",
    "# sn.show_graph(two_mode, nlab=True)"
   ]
  },
  {
   "cell_type": "code",
   "execution_count": 5,
   "metadata": {},
   "outputs": [],
   "source": [
    "def naming(graph):\n",
    "    outd = graph.out_degree\n",
    "    for i in range(len(outd)):\n",
    "        if(outd[i] > 0):\n",
    "            graph.nodes[i][\"type\"] = \"people\"\n",
    "        else:\n",
    "            graph.nodes[i][\"type\"] = \"genre\"\n",
    "    return graph\n",
    "            \n",
    "def colocando_indegree_nos_genres(graph):\n",
    "    ind = graph.in_degree\n",
    "    for i in range(len(ind)):\n",
    "        if(graph.nodes[i][\"type\"] == \"genre\"):\n",
    "            graph.nodes[i][\"value\"] = ind[i]\n",
    "        else:\n",
    "            graph.nodes[i][\"value\"] = 0\n",
    "            \n",
    "    return graph\n",
    "\n",
    "def ponderations_graph_degree_e_out(graph):\n",
    "    for i in range(len(graph.nodes)):\n",
    "        if graph.nodes[i][\"type\"] == \"people\":\n",
    "            node = graph.nodes[i]\n",
    "            soma = 0\n",
    "            for j in range(len(list(graph.successors(i)))):\n",
    "                soma +=graph.nodes[list(graph.successors(i))[j]][\"value\"]\n",
    "            node[\"value\"] = soma\n",
    "    return graph\n",
    "\n",
    "def ponderations_graph_degree_e_in(graph):\n",
    "    for i in range(len(graph.nodes)):\n",
    "        if graph.nodes[i][\"type\"] == \"genre\":\n",
    "            node = graph.nodes[i]\n",
    "            soma = 0\n",
    "            for j in range(len(list(graph.predecessors(i)))):\n",
    "                soma +=graph.nodes[list(graph.predecessors(i))[j]][\"value\"]\n",
    "            node[\"value\"] = soma\n",
    "    return graph\n",
    "\n",
    "def normalize_genres(graph):\n",
    "    soma = 0\n",
    "    for i in range(len(graph.nodes)):\n",
    "        if graph.nodes[i][\"type\"] == \"genre\":\n",
    "            node = graph.nodes[i]\n",
    "            soma += node[\"value\"]\n",
    "            \n",
    "    for i in range(len(graph.nodes)):\n",
    "        if graph.nodes[i][\"type\"] == \"genre\":\n",
    "            node = graph.nodes[i]\n",
    "            node[\"value\"]/= soma\n",
    "    return graph\n",
    "\n",
    "\n",
    "def normalize_people(graph):\n",
    "    soma = 0\n",
    "    for i in range(len(graph.nodes)):\n",
    "        if graph.nodes[i][\"type\"] == \"people\":\n",
    "            node = graph.nodes[i]\n",
    "            soma += node[\"value\"]\n",
    "            \n",
    "    for i in range(len(graph.nodes)):\n",
    "        if graph.nodes[i][\"type\"] == \"people\":\n",
    "            node = graph.nodes[i]\n",
    "            node[\"value\"]/= soma\n",
    "    return graph\n",
    "\n",
    "def euclidian_distance(c1, c2):\n",
    "    return sum([(c1.nodes[i][\"value\"] - c2.nodes[i][\"value\"])** 2 for i in range(len(c1.nodes))]) ** 0.5\n",
    "\n",
    "def ping_pong(graph):\n",
    "    p_in = ponderations_graph_degree_e_in(graph)\n",
    "    normal_genres = normalize_genres(p_in)\n",
    "    p_out2 = ponderations_graph_degree_e_out(normal_genres)\n",
    "    normal_people = normalize_people(p_out2)\n",
    "    return normal_people\n",
    "\n",
    "def hub_authority(graph):\n",
    "    graph = naming(graph)\n",
    "    graph = colocando_indegree_nos_genres(graph)\n",
    "    graph = ponderations_graph_degree_e_out(graph)\n",
    "    graph = ping_pong(graph)\n",
    "    delta = 1\n",
    "    epsilon = 10**-7\n",
    "    while delta > epsilon:\n",
    "        old = graph.copy()\n",
    "        graph = ping_pong(graph)\n",
    "        delta = euclidian_distance(old, graph)\n",
    "#         print(delta)\n",
    "    return graph\n",
    "    \n",
    "    "
   ]
  },
  {
   "cell_type": "code",
   "execution_count": 6,
   "metadata": {},
   "outputs": [],
   "source": [
    "two_mode = hub_authority(two_mode)\n"
   ]
  },
  {
   "cell_type": "code",
   "execution_count": 7,
   "metadata": {},
   "outputs": [],
   "source": [
    "a = [(two_mode.nodes[i][\"label\"], two_mode.nodes[i][\"value\"]) for i in range(len(two_mode.nodes)) if two_mode.nodes[i][\"type\"] == \"people\"]\n",
    "sorted_list_a = sorted(a, key=lambda x: x[1], reverse=True)"
   ]
  },
  {
   "cell_type": "code",
   "execution_count": 8,
   "metadata": {},
   "outputs": [
    {
     "data": {
      "text/plain": [
       "[('Forba', 0.09457816590696895),\n",
       " ('Jean', 0.06977050807137243),\n",
       " ('Sabrina', 0.06845099493468296),\n",
       " ('Toyama', 0.05998836376053969),\n",
       " ('Rachel', 0.054038701924490534),\n",
       " ('Vitoria', 0.05374646506759368),\n",
       " ('Hugo', 0.051296027897833926),\n",
       " ('Isa', 0.0505236432020694),\n",
       " ('Graicer', 0.047239753047793424),\n",
       " ('Joao', 0.04671768652160925),\n",
       " ('Fred', 0.04441964541922752),\n",
       " ('Chen', 0.04399732976736969),\n",
       " ('Pedro', 0.041991616929317244),\n",
       " ('Martim', 0.0409756908759953),\n",
       " ('Rapha', 0.03859533919112839),\n",
       " ('Gabs', 0.03859533919112839),\n",
       " ('Ale', 0.03836720159298758),\n",
       " ('Bruna', 0.030140128945583128),\n",
       " ('Antonio', 0.024276722045354852),\n",
       " ('Paulo', 0.021207559139054147),\n",
       " ('Carlos', 0.020477001475570637),\n",
       " ('Elisa', 0.015443362733362146),\n",
       " ('Leo', 0.005162752358966937)]"
      ]
     },
     "execution_count": 8,
     "metadata": {},
     "output_type": "execute_result"
    }
   ],
   "source": [
    "sorted_list_a"
   ]
  },
  {
   "cell_type": "code",
   "execution_count": 9,
   "metadata": {},
   "outputs": [],
   "source": [
    "b = [(one_mode.nodes[i][\"label\"], one_mode.in_degree[i]) for i in range(len(one_mode.nodes))]\n",
    "sorted_list_b = sorted(b, key=lambda x: x[1], reverse=True)"
   ]
  },
  {
   "cell_type": "code",
   "execution_count": 10,
   "metadata": {},
   "outputs": [
    {
     "data": {
      "text/plain": [
       "[('Hugo', 12),\n",
       " ('Graicer', 10),\n",
       " ('Fred', 7),\n",
       " ('Toyama', 7),\n",
       " ('Forba', 7),\n",
       " ('Chen', 6),\n",
       " ('Rachel', 5),\n",
       " ('Vitoria', 5),\n",
       " ('Rapha', 3),\n",
       " ('Antonio', 3),\n",
       " ('Isa', 3),\n",
       " ('Leo', 2),\n",
       " ('Gabs', 2),\n",
       " ('Elisa', 2),\n",
       " ('Sabrina', 2),\n",
       " ('Rios', 2),\n",
       " ('Martim', 2),\n",
       " ('Jean', 1),\n",
       " ('Bruna', 1),\n",
       " ('Carlos', 1),\n",
       " ('Joao', 0),\n",
       " ('Paulo', 0),\n",
       " ('Ale', 0),\n",
       " ('Pedro', 0),\n",
       " ('Tirta', 0)]"
      ]
     },
     "execution_count": 10,
     "metadata": {},
     "output_type": "execute_result"
    }
   ],
   "source": [
    "sorted_list_b"
   ]
  },
  {
   "cell_type": "code",
   "execution_count": 11,
   "metadata": {},
   "outputs": [
    {
     "data": {
      "text/plain": [
       "[('Forba', 0.7566253272557516),\n",
       " ('Jean', 0.13954101614274486),\n",
       " ('Sabrina', 0.20535298480404887),\n",
       " ('Toyama', 0.4799069100843175),\n",
       " ('Rachel', 0.32423221154694326),\n",
       " ('Vitoria', 0.3224787904055621),\n",
       " ('Hugo', 0.666848362671841),\n",
       " ('Isa', 0.2020945728082776),\n",
       " ('Graicer', 0.5196372835257277),\n",
       " ('Joao', 0.04671768652160925),\n",
       " ('Fred', 0.35535716335382017),\n",
       " ('Chen', 0.3079813083715878),\n",
       " ('Pedro', 0.041991616929317244),\n",
       " ('Martim', 0.1229270726279859),\n",
       " ('Rapha', 0.15438135676451356),\n",
       " ('Gabs', 0.11578601757338516),\n",
       " ('Ale', 0.03836720159298758),\n",
       " ('Bruna', 0.060280257891166256),\n",
       " ('Antonio', 0.09710688818141941),\n",
       " ('Paulo', 0.021207559139054147),\n",
       " ('Carlos', 0.04095400295114127),\n",
       " ('Elisa', 0.04633008820008644),\n",
       " ('Leo', 0.015488257076900812)]"
      ]
     },
     "execution_count": 11,
     "metadata": {},
     "output_type": "execute_result"
    }
   ],
   "source": [
    "# pt = soma([hub/numero_de_pessoas_recomendadas]) * seu_hub\n",
    "\n",
    "list_final = []\n",
    "for i in range(len(sorted_list_a)):\n",
    "    label = sorted_list_a[i][0]\n",
    "    valor1 = sorted_list_a[i][1]\n",
    "    for j in range(len(sorted_list_b)):\n",
    "        if(label in sorted_list_b[j]):\n",
    "            valor2 = sorted_list_b[j][1]\n",
    "    list_final.append((label, (valor1 * valor2) + valor1))\n",
    "list_final\n",
    "    "
   ]
  },
  {
   "cell_type": "code",
   "execution_count": 12,
   "metadata": {},
   "outputs": [
    {
     "data": {
      "text/plain": [
       "[('Forba', 0.7566253272557516),\n",
       " ('Hugo', 0.666848362671841),\n",
       " ('Graicer', 0.5196372835257277),\n",
       " ('Toyama', 0.4799069100843175),\n",
       " ('Fred', 0.35535716335382017),\n",
       " ('Rachel', 0.32423221154694326),\n",
       " ('Vitoria', 0.3224787904055621),\n",
       " ('Chen', 0.3079813083715878),\n",
       " ('Sabrina', 0.20535298480404887),\n",
       " ('Isa', 0.2020945728082776),\n",
       " ('Rapha', 0.15438135676451356),\n",
       " ('Jean', 0.13954101614274486),\n",
       " ('Martim', 0.1229270726279859),\n",
       " ('Gabs', 0.11578601757338516),\n",
       " ('Antonio', 0.09710688818141941),\n",
       " ('Bruna', 0.060280257891166256),\n",
       " ('Joao', 0.04671768652160925),\n",
       " ('Elisa', 0.04633008820008644),\n",
       " ('Pedro', 0.041991616929317244),\n",
       " ('Carlos', 0.04095400295114127),\n",
       " ('Ale', 0.03836720159298758),\n",
       " ('Paulo', 0.021207559139054147),\n",
       " ('Leo', 0.015488257076900812)]"
      ]
     },
     "execution_count": 12,
     "metadata": {},
     "output_type": "execute_result"
    }
   ],
   "source": [
    "list_final_sorted = sorted(list_final, key=lambda x: x[1], reverse=True)\n",
    "list_final_sorted"
   ]
  },
  {
   "cell_type": "markdown",
   "metadata": {},
   "source": [
    "## Teste de Hipótese"
   ]
  },
  {
   "cell_type": "markdown",
   "metadata": {},
   "source": [
    "H1 => Se um aluno gosta de estilos mais gostados pela classe (tem um alto valor de hub no hub-authority), ela recebera mais votos\n"
   ]
  },
  {
   "cell_type": "code",
   "execution_count": 16,
   "metadata": {},
   "outputs": [],
   "source": [
    "from scipy.stats import ttest_ind, ttest_rel, linregress\n",
    "\n",
    "\n",
    "list_final_testx = []\n",
    "list_final_testy = []\n",
    "for i in range(len(sorted_list_a)):\n",
    "    label = sorted_list_a[i][0]\n",
    "    valor1 = sorted_list_a[i][1]\n",
    "    for j in range(len(sorted_list_b)):\n",
    "        if(label in sorted_list_b[j]):\n",
    "            valor2 = sorted_list_b[j][1]\n",
    "    list_final_testx.append(valor2)\n",
    "    list_final_testy.append(valor1)\n"
   ]
  },
  {
   "cell_type": "code",
   "execution_count": 17,
   "metadata": {},
   "outputs": [],
   "source": [
    "\n",
    "# Train the model using the training sets\n",
    "l = linregress(list_final_testx, list_final_testy)"
   ]
  },
  {
   "cell_type": "code",
   "execution_count": 18,
   "metadata": {},
   "outputs": [
    {
     "data": {
      "image/png": "[encoded data removed]",
      "text/plain": [
       "<Figure size 432x288 with 1 Axes>"
      ]
     },
     "metadata": {},
     "output_type": "display_data"
    }
   ],
   "source": [
    "plt.scatter(list_final_testx, list_final_testy)\n",
    "plt.plot(range(13), range(13)*l.slope + l.intercept, 'r')\n",
    "plt.show()"
   ]
  },
  {
   "cell_type": "code",
   "execution_count": 19,
   "metadata": {},
   "outputs": [
    {
     "name": "stdout",
     "output_type": "stream",
     "text": [
      "P-value: 0.06470282839467\n"
     ]
    }
   ],
   "source": [
    "print(f'P-value: {l.pvalue}')"
   ]
  },
  {
   "cell_type": "markdown",
   "metadata": {},
   "source": [
    "Fazendo a regressão linear com os valores hub e indicação (indegree) de cada aluno, percebe-se uma relação de crescimento, porém como o p-valor é maior que 5%, a hipótese nula (que não há relação entre as duas medidas) não pode ser rejeitada. Todavia, como o p-value é muito próximo de 5%, não podemos tirar uma conclusão rígida."
   ]
  },
  {
   "cell_type": "markdown",
   "metadata": {},
   "source": [
    "## Método 2"
   ]
  },
  {
   "cell_type": "code",
   "execution_count": 20,
   "metadata": {},
   "outputs": [],
   "source": [
    "graph_teste = hub_authority(graph_teste)\n",
    "a2 = [[graph_teste.nodes[i][\"label\"], (graph_teste.nodes[i][\"value\"])/graph_teste.out_degree[i]] for i in range(len(graph_teste.nodes)) if graph_teste.nodes[i][\"type\"] == \"people\"]\n",
    "sorted_list_a2 = sorted(a2, key=lambda x: x[1], reverse=True)"
   ]
  },
  {
   "cell_type": "code",
   "execution_count": 21,
   "metadata": {},
   "outputs": [],
   "source": [
    "soma = 0\n",
    "\n",
    "for i in range(len(sorted_list_a2)):\n",
    "    soma += sorted_list_a2[i][1]\n",
    "    \n",
    "\n",
    "for i in range(len(sorted_list_a2)):\n",
    "    sorted_list_a2[i][1] /= soma\n",
    "\n"
   ]
  },
  {
   "cell_type": "code",
   "execution_count": 22,
   "metadata": {},
   "outputs": [],
   "source": [
    "list_final2 = []\n",
    "for i in range(len(sorted_list_a2)):\n",
    "    label = sorted_list_a2[i][0]\n",
    "    valor1 = sorted_list_a2[i][1]\n",
    "    for j in range(len(sorted_list_b)):\n",
    "        if(label in sorted_list_b[j]):\n",
    "            valor2 = sorted_list_b[j][1]\n",
    "    list_final2.append((label, (valor1 * valor2) + valor1))    "
   ]
  },
  {
   "cell_type": "code",
   "execution_count": 23,
   "metadata": {},
   "outputs": [
    {
     "data": {
      "text/plain": [
       "[('Hugo', 0.5673308883072609),\n",
       " ('Graicer', 0.5157704227672844),\n",
       " ('Toyama', 0.3572517760230266),\n",
       " ('Chen', 0.30568947737055624),\n",
       " ('Fred', 0.3023252457936706),\n",
       " ('Forba', 0.3003979716523267),\n",
       " ('Rachel', 0.275845242924104),\n",
       " ('Vitoria', 0.274353494530615),\n",
       " ('Rapha', 0.18387904063903326),\n",
       " ('Isa', 0.17193488044870328),\n",
       " ('Martim', 0.1464147786826198),\n",
       " ('Elisa', 0.13795597391899453),\n",
       " ('Gabs', 0.13790928047927495),\n",
       " ('Sabrina', 0.12229491510340876),\n",
       " ('Carlos', 0.12194773596385104),\n",
       " ('Antonio', 0.1156611252320959),\n",
       " ('Leo', 0.09223801086342959),\n",
       " ('Bruna', 0.08974752702336193),\n",
       " ('Jean', 0.08310157623909982),\n",
       " ('Pedro', 0.050014965522180814),\n",
       " ('Joao', 0.04637003866326091),\n",
       " ('Paulo', 0.04209948781502544),\n",
       " ('Ale', 0.03808169354544222)]"
      ]
     },
     "execution_count": 23,
     "metadata": {},
     "output_type": "execute_result"
    }
   ],
   "source": [
    "list_final_sorted2 = sorted(list_final2, key=lambda x: x[1], reverse=True)\n",
    "list_final_sorted2"
   ]
  },
  {
   "cell_type": "code",
   "execution_count": 24,
   "metadata": {},
   "outputs": [],
   "source": [
    "list_final_testx2 = []\n",
    "list_final_testy2 = []\n",
    "for i in range(len(sorted_list_a2)):\n",
    "    label = sorted_list_a2[i][0]\n",
    "    valor1 = sorted_list_a2[i][1]\n",
    "    for j in range(len(sorted_list_b)):\n",
    "        if(label in sorted_list_b[j]):\n",
    "            valor2 = sorted_list_b[j][1]\n",
    "    list_final_testx2.append(valor2)\n",
    "    list_final_testy2.append(valor1)    "
   ]
  },
  {
   "cell_type": "code",
   "execution_count": 27,
   "metadata": {},
   "outputs": [
    {
     "data": {
      "image/png": "[encoded data removed]",
      "text/plain": [
       "<Figure size 432x288 with 1 Axes>"
      ]
     },
     "metadata": {},
     "output_type": "display_data"
    }
   ],
   "source": [
    "\n",
    "# Train the model using the training sets\n",
    "l = linregress(list_final_testx2, list_final_testy2)\n",
    "\n",
    "plt.scatter(list_final_testx2, list_final_testy2)\n",
    "plt.plot(range(13), range(13)*l.slope + l.intercept, 'r')\n",
    "plt.show()"
   ]
  },
  {
   "cell_type": "code",
   "execution_count": 28,
   "metadata": {},
   "outputs": [
    {
     "name": "stdout",
     "output_type": "stream",
     "text": [
      "P-value: 0.6772740571481561\n"
     ]
    }
   ],
   "source": [
    "print(f'P-value: {l.pvalue}')"
   ]
  },
  {
   "cell_type": "markdown",
   "metadata": {},
   "source": [
    "## Comparação"
   ]
  },
  {
   "cell_type": "code",
   "execution_count": 29,
   "metadata": {},
   "outputs": [
    {
     "data": {
      "text/plain": [
       "[('Forba', 0.7566253272557516),\n",
       " ('Hugo', 0.666848362671841),\n",
       " ('Graicer', 0.5196372835257277),\n",
       " ('Toyama', 0.4799069100843175),\n",
       " ('Fred', 0.35535716335382017),\n",
       " ('Rachel', 0.32423221154694326),\n",
       " ('Vitoria', 0.3224787904055621),\n",
       " ('Chen', 0.3079813083715878),\n",
       " ('Sabrina', 0.20535298480404887),\n",
       " ('Isa', 0.2020945728082776),\n",
       " ('Rapha', 0.15438135676451356),\n",
       " ('Jean', 0.13954101614274486),\n",
       " ('Martim', 0.1229270726279859),\n",
       " ('Gabs', 0.11578601757338516),\n",
       " ('Antonio', 0.09710688818141941),\n",
       " ('Bruna', 0.060280257891166256),\n",
       " ('Joao', 0.04671768652160925),\n",
       " ('Elisa', 0.04633008820008644),\n",
       " ('Pedro', 0.041991616929317244),\n",
       " ('Carlos', 0.04095400295114127),\n",
       " ('Ale', 0.03836720159298758),\n",
       " ('Paulo', 0.021207559139054147),\n",
       " ('Leo', 0.015488257076900812)]"
      ]
     },
     "execution_count": 29,
     "metadata": {},
     "output_type": "execute_result"
    }
   ],
   "source": [
    "list_final_sorted"
   ]
  },
  {
   "cell_type": "code",
   "execution_count": 30,
   "metadata": {},
   "outputs": [
    {
     "data": {
      "text/plain": [
       "[('Hugo', 0.5673308883072609),\n",
       " ('Graicer', 0.5157704227672844),\n",
       " ('Toyama', 0.3572517760230266),\n",
       " ('Chen', 0.30568947737055624),\n",
       " ('Fred', 0.3023252457936706),\n",
       " ('Forba', 0.3003979716523267),\n",
       " ('Rachel', 0.275845242924104),\n",
       " ('Vitoria', 0.274353494530615),\n",
       " ('Rapha', 0.18387904063903326),\n",
       " ('Isa', 0.17193488044870328),\n",
       " ('Martim', 0.1464147786826198),\n",
       " ('Elisa', 0.13795597391899453),\n",
       " ('Gabs', 0.13790928047927495),\n",
       " ('Sabrina', 0.12229491510340876),\n",
       " ('Carlos', 0.12194773596385104),\n",
       " ('Antonio', 0.1156611252320959),\n",
       " ('Leo', 0.09223801086342959),\n",
       " ('Bruna', 0.08974752702336193),\n",
       " ('Jean', 0.08310157623909982),\n",
       " ('Pedro', 0.050014965522180814),\n",
       " ('Joao', 0.04637003866326091),\n",
       " ('Paulo', 0.04209948781502544),\n",
       " ('Ale', 0.03808169354544222)]"
      ]
     },
     "execution_count": 30,
     "metadata": {},
     "output_type": "execute_result"
    }
   ],
   "source": [
    "list_final_sorted2"
   ]
  },
  {
   "cell_type": "code",
   "execution_count": 31,
   "metadata": {},
   "outputs": [
    {
     "name": "stdout",
     "output_type": "stream",
     "text": [
      "{'label': 'Rachel', 'color': (255, 255, 255), 'pos': (0.9199456350995449, 0.3301762354100153)}\n",
      "{'label': 'Jean', 'color': (255, 255, 255), 'pos': (1.0, 0.48378859160088067)}\n",
      "{'label': 'Bruna', 'color': (255, 255, 255), 'pos': (0.6597946658227088, 0.6060933380762026)}\n",
      "{'label': 'Leo', 'color': (255, 255, 255), 'pos': (0.8564201490208788, 0.34899107009583086)}\n",
      "{'label': 'Joao', 'color': (255, 255, 255), 'pos': (0.8302494742863075, 0.5039056781303795)}\n",
      "{'label': 'Rapha', 'color': (255, 255, 255), 'pos': (0.9566052390161917, 0.6438622747231005)}\n",
      "{'label': 'Carlos', 'color': (255, 255, 255), 'pos': (0.597391276645875, 0.6789213501853985)}\n",
      "{'label': 'Fred', 'color': (255, 255, 255), 'pos': (0.9172691250248296, 0.5355998464681654)}\n",
      "{'label': 'Toyama', 'color': (255, 255, 255), 'pos': (0.9819168461881859, 0.5373747412876968)}\n",
      "{'label': 'Vitoria', 'color': (255, 255, 255), 'pos': (0.7586536325009647, 0.5386140952769176)}\n",
      "{'label': 'Hugo', 'color': (255, 255, 255), 'pos': (0.8839742914313747, 0.45197279904717325)}\n",
      "{'label': 'Gabs', 'color': (255, 255, 255), 'pos': (0.9489925158241015, 0.35636626615086725)}\n",
      "{'label': 'Elisa', 'color': (255, 255, 255), 'pos': (0.0, 1.0)}\n",
      "{'label': 'Paulo', 'color': (255, 255, 255), 'pos': (0.8475959206127766, 0.45731396119615597)}\n",
      "{'label': 'Sabrina', 'color': (255, 255, 255), 'pos': (0.8772159798329108, 0.46972981792111795)}\n",
      "{'label': 'Forba', 'color': (255, 255, 255), 'pos': (0.948209476338203, 0.5400569609139829)}\n",
      "{'label': 'Rios', 'color': (255, 255, 255), 'pos': (0.9252018943081675, 0.0)}\n",
      "{'label': 'Ale', 'color': (255, 255, 255), 'pos': (0.8111371835178107, 0.6399595562668822)}\n",
      "{'label': 'Graicer', 'color': (255, 255, 255), 'pos': (0.9305001833845685, 0.4444779387197966)}\n",
      "{'label': 'Antonio', 'color': (255, 255, 255), 'pos': (0.6907263612182181, 0.6260227342069421)}\n",
      "{'label': 'Martim', 'color': (255, 255, 255), 'pos': (0.9412021789125474, 0.4890570598848751)}\n",
      "{'label': 'Pedro', 'color': (255, 255, 255), 'pos': (0.93227300028704, 0.4739405335942016)}\n",
      "{'label': 'Isa', 'color': (255, 255, 255), 'pos': (0.8682835204611128, 0.5725503575726556)}\n",
      "{'label': 'Chen', 'color': (255, 255, 255), 'pos': (0.8417671040457085, 0.5232443590376152)}\n",
      "{'label': 'Tirta', 'color': (255, 255, 255), 'pos': (0.8924373351183611, 0.35830052982875776)}\n"
     ]
    }
   ],
   "source": [
    "for i in range(len(one_mode.nodes)):\n",
    "    print(one_mode.nodes[i])"
   ]
  },
  {
   "cell_type": "code",
   "execution_count": null,
   "metadata": {},
   "outputs": [],
   "source": []
  }
 ],
 "metadata": {
  "kernelspec": {
   "display_name": "Python 3",
   "language": "python",
   "name": "python3"
  },
  "language_info": {
   "codemirror_mode": {
    "name": "ipython",
    "version": 3
   },
   "file_extension": ".py",
   "mimetype": "text/x-python",
   "name": "python",
   "nbconvert_exporter": "python",
   "pygments_lexer": "ipython3",
   "version": "3.7.0"
  }
 },
 "nbformat": 4,
 "nbformat_minor": 2
}
