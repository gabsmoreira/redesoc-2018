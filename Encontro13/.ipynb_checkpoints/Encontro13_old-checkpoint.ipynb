{
 "cells": [
  {
   "cell_type": "markdown",
   "metadata": {},
   "source": [
    "# Encontro 13: Medidas de Centralidade\n",
    "\n",
    "Importando a biblioteca:"
   ]
  },
  {
   "cell_type": "code",
   "execution_count": 1,
   "metadata": {},
   "outputs": [
    {
     "data": {
      "text/html": [
       "<script>requirejs.config({paths: { 'plotly': ['https://cdn.plot.ly/plotly-latest.min']},});if(!window.Plotly) {{require(['plotly'],function(plotly) {window.Plotly=plotly;});}}</script>"
      ],
      "text/vnd.plotly.v1+html": [
       "<script>requirejs.config({paths: { 'plotly': ['https://cdn.plot.ly/plotly-latest.min']},});if(!window.Plotly) {{require(['plotly'],function(plotly) {window.Plotly=plotly;});}}</script>"
      ]
     },
     "metadata": {},
     "output_type": "display_data"
    }
   ],
   "source": [
    "import sys\n",
    "sys.path.append('..')\n",
    "\n",
    "from random import choice\n",
    "from itertools import permutations\n",
    "\n",
    "import pandas as pd\n",
    "import networkx as nx\n",
    "\n",
    "import socnet as sn\n",
    "from tqdm import tqdm "
   ]
  },
  {
   "cell_type": "markdown",
   "metadata": {},
   "source": [
    "Configurando a biblioteca:"
   ]
  },
  {
   "cell_type": "code",
   "execution_count": 2,
   "metadata": {},
   "outputs": [],
   "source": [
    "sn.node_size = 10\n",
    "sn.node_color = (255, 255, 255)\n",
    "\n",
    "sn.edge_width = 1\n",
    "sn.edge_color = (192, 192, 192)\n",
    "\n",
    "sn.node_label_position = 'top center'"
   ]
  },
  {
   "cell_type": "markdown",
   "metadata": {},
   "source": [
    "Carregando rede de casamentos entre famílias de Florença durante a Renascença.\n",
    "\n",
    "J. F. Padgett e C. K. Ansell. *Robust action and the rise of the Medici, 1400–1434.* American Journal of\n",
    "Sociology 98, págs. 1259-1319, 1993."
   ]
  },
  {
   "cell_type": "code",
   "execution_count": 3,
   "metadata": {},
   "outputs": [
    {
     "data": {
      "application/vnd.plotly.v1+json": {
       "data": [
        {
         "hoverinfo": "none",
         "line": {
          "color": "rgb(192, 192, 192)",
          "width": 1
         },
         "mode": "lines",
         "type": "scatter",
         "uid": "15d26a02-bdbd-11e8-9033-784f43a1779a",
         "x": [
          0.5138211382113821,
          0.5609756097560976,
          null,
          0.9658536585365853,
          0.8097560975609757,
          null,
          0.5609756097560976,
          0.8097560975609757,
          null,
          0.5609756097560976,
          0.44552845528455287,
          null,
          0.8097560975609757,
          0.6130081300813008,
          null,
          0.8097560975609757,
          1,
          null,
          0,
          0.23414634146341465,
          null,
          0.23414634146341465,
          0.44552845528455287,
          null,
          0.44552845528455287,
          0.6130081300813008,
          null,
          0.44552845528455287,
          0.624390243902439,
          null,
          0.44552845528455287,
          0.26991869918699185,
          null,
          0.44552845528455287,
          0.5138211382113821,
          null,
          0.6130081300813008,
          0.624390243902439,
          null,
          1,
          0.9951219512195122,
          null,
          1,
          0.8357723577235773,
          null,
          0.624390243902439,
          0.8357723577235773,
          null,
          0.8357723577235773,
          0.7626016260162601,
          null,
          0.9951219512195122,
          0.7626016260162601,
          null,
          0.5138211382113821,
          0.7626016260162601,
          null
         ],
         "y": [
          1,
          0.736734693877551,
          null,
          0.8673469387755102,
          0.6714285714285715,
          null,
          0.736734693877551,
          0.6714285714285715,
          null,
          0.736734693877551,
          0.4285714285714286,
          null,
          0.6714285714285715,
          0.5326530612244897,
          null,
          0.6714285714285715,
          0.44897959183673475,
          null,
          0.5061224489795919,
          0.48367346938775513,
          null,
          0.48367346938775513,
          0.4285714285714286,
          null,
          0.4285714285714286,
          0.5326530612244897,
          null,
          0.4285714285714286,
          0.33673469387755106,
          null,
          0.4285714285714286,
          0.2204081632653061,
          null,
          0.4285714285714286,
          0.09999999999999998,
          null,
          0.5326530612244897,
          0.33673469387755106,
          null,
          0.44897959183673475,
          0.17755102040816328,
          null,
          0.44897959183673475,
          0.2020408163265306,
          null,
          0.33673469387755106,
          0.2020408163265306,
          null,
          0.2020408163265306,
          0,
          null,
          0.17755102040816328,
          0,
          null,
          0.09999999999999998,
          0,
          null
         ]
        },
        {
         "hoverinfo": "none",
         "marker": {
          "color": "rgb(255, 255, 255)",
          "line": {
           "color": "rgb(0, 0, 0)",
           "width": 1
          },
          "size": 10
         },
         "mode": "markers+text",
         "text": [
          "ginori",
          "lambertes",
          "albizzi",
          "guadagni",
          "pazzi",
          "salviati",
          "medici",
          "tornabuon",
          "bischeri",
          "ridolfi",
          "acciaiuol",
          "strozzi",
          "peruzzi",
          "barbadori",
          "castellan"
         ],
         "textfont": {
          "color": "rgb(0, 0, 0)"
         },
         "textposition": "top center",
         "type": "scatter",
         "uid": "15d26d36-bdbd-11e8-9033-784f43a1779a",
         "x": [
          0.5138211382113821,
          0.9658536585365853,
          0.5609756097560976,
          0.8097560975609757,
          0,
          0.23414634146341465,
          0.44552845528455287,
          0.6130081300813008,
          1,
          0.624390243902439,
          0.26991869918699185,
          0.8357723577235773,
          0.9951219512195122,
          0.5138211382113821,
          0.7626016260162601
         ],
         "y": [
          1,
          0.8673469387755102,
          0.736734693877551,
          0.6714285714285715,
          0.5061224489795919,
          0.48367346938775513,
          0.4285714285714286,
          0.5326530612244897,
          0.44897959183673475,
          0.33673469387755106,
          0.2204081632653061,
          0.2020408163265306,
          0.17755102040816328,
          0.09999999999999998,
          0
         ]
        }
       ],
       "layout": {
        "height": 450,
        "margin": {
         "b": 0,
         "l": 0,
         "r": 0,
         "t": 0
        },
        "showlegend": false,
        "width": 800,
        "xaxis": {
         "showgrid": false,
         "showticklabels": false,
         "zeroline": false
        },
        "yaxis": {
         "showgrid": false,
         "showticklabels": false,
         "zeroline": false
        }
       }
      },
      "text/html": [
       "<div id=\"18545a55-e1ba-4c1f-8cfb-22fc8be0cf82\" style=\"height: 450px; width: 800px;\" class=\"plotly-graph-div\"></div><script type=\"text/javascript\">require([\"plotly\"], function(Plotly) { window.PLOTLYENV=window.PLOTLYENV || {};window.PLOTLYENV.BASE_URL=\"https://plot.ly\";Plotly.newPlot(\"18545a55-e1ba-4c1f-8cfb-22fc8be0cf82\", [{\"hoverinfo\": \"none\", \"line\": {\"color\": \"rgb(192, 192, 192)\", \"width\": 1}, \"mode\": \"lines\", \"x\": [0.5138211382113821, 0.5609756097560976, null, 0.9658536585365853, 0.8097560975609757, null, 0.5609756097560976, 0.8097560975609757, null, 0.5609756097560976, 0.44552845528455287, null, 0.8097560975609757, 0.6130081300813008, null, 0.8097560975609757, 1.0, null, 0.0, 0.23414634146341465, null, 0.23414634146341465, 0.44552845528455287, null, 0.44552845528455287, 0.6130081300813008, null, 0.44552845528455287, 0.624390243902439, null, 0.44552845528455287, 0.26991869918699185, null, 0.44552845528455287, 0.5138211382113821, null, 0.6130081300813008, 0.624390243902439, null, 1.0, 0.9951219512195122, null, 1.0, 0.8357723577235773, null, 0.624390243902439, 0.8357723577235773, null, 0.8357723577235773, 0.7626016260162601, null, 0.9951219512195122, 0.7626016260162601, null, 0.5138211382113821, 0.7626016260162601, null], \"y\": [1.0, 0.736734693877551, null, 0.8673469387755102, 0.6714285714285715, null, 0.736734693877551, 0.6714285714285715, null, 0.736734693877551, 0.4285714285714286, null, 0.6714285714285715, 0.5326530612244897, null, 0.6714285714285715, 0.44897959183673475, null, 0.5061224489795919, 0.48367346938775513, null, 0.48367346938775513, 0.4285714285714286, null, 0.4285714285714286, 0.5326530612244897, null, 0.4285714285714286, 0.33673469387755106, null, 0.4285714285714286, 0.2204081632653061, null, 0.4285714285714286, 0.09999999999999998, null, 0.5326530612244897, 0.33673469387755106, null, 0.44897959183673475, 0.17755102040816328, null, 0.44897959183673475, 0.2020408163265306, null, 0.33673469387755106, 0.2020408163265306, null, 0.2020408163265306, 0.0, null, 0.17755102040816328, 0.0, null, 0.09999999999999998, 0.0, null], \"type\": \"scatter\", \"uid\": \"16292bc6-bdbd-11e8-9033-784f43a1779a\"}, {\"hoverinfo\": \"none\", \"marker\": {\"color\": \"rgb(255, 255, 255)\", \"line\": {\"color\": \"rgb(0, 0, 0)\", \"width\": 1}, \"size\": 10}, \"mode\": \"markers+text\", \"text\": [\"ginori\", \"lambertes\", \"albizzi\", \"guadagni\", \"pazzi\", \"salviati\", \"medici\", \"tornabuon\", \"bischeri\", \"ridolfi\", \"acciaiuol\", \"strozzi\", \"peruzzi\", \"barbadori\", \"castellan\"], \"textfont\": {\"color\": \"rgb(0, 0, 0)\"}, \"textposition\": \"top center\", \"x\": [0.5138211382113821, 0.9658536585365853, 0.5609756097560976, 0.8097560975609757, 0.0, 0.23414634146341465, 0.44552845528455287, 0.6130081300813008, 1.0, 0.624390243902439, 0.26991869918699185, 0.8357723577235773, 0.9951219512195122, 0.5138211382113821, 0.7626016260162601], \"y\": [1.0, 0.8673469387755102, 0.736734693877551, 0.6714285714285715, 0.5061224489795919, 0.48367346938775513, 0.4285714285714286, 0.5326530612244897, 0.44897959183673475, 0.33673469387755106, 0.2204081632653061, 0.2020408163265306, 0.17755102040816328, 0.09999999999999998, 0.0], \"type\": \"scatter\", \"uid\": \"16292cf2-bdbd-11e8-9033-784f43a1779a\"}], {\"height\": 450, \"margin\": {\"b\": 0, \"l\": 0, \"r\": 0, \"t\": 0}, \"showlegend\": false, \"width\": 800, \"xaxis\": {\"showgrid\": false, \"showticklabels\": false, \"zeroline\": false}, \"yaxis\": {\"showgrid\": false, \"showticklabels\": false, \"zeroline\": false}}, {\"showLink\": false, \"linkText\": \"Export to plot.ly\", \"displayModeBar\": false})});</script>"
      ],
      "text/vnd.plotly.v1+html": [
       "<div id=\"18545a55-e1ba-4c1f-8cfb-22fc8be0cf82\" style=\"height: 450px; width: 800px;\" class=\"plotly-graph-div\"></div><script type=\"text/javascript\">require([\"plotly\"], function(Plotly) { window.PLOTLYENV=window.PLOTLYENV || {};window.PLOTLYENV.BASE_URL=\"https://plot.ly\";Plotly.newPlot(\"18545a55-e1ba-4c1f-8cfb-22fc8be0cf82\", [{\"hoverinfo\": \"none\", \"line\": {\"color\": \"rgb(192, 192, 192)\", \"width\": 1}, \"mode\": \"lines\", \"x\": [0.5138211382113821, 0.5609756097560976, null, 0.9658536585365853, 0.8097560975609757, null, 0.5609756097560976, 0.8097560975609757, null, 0.5609756097560976, 0.44552845528455287, null, 0.8097560975609757, 0.6130081300813008, null, 0.8097560975609757, 1.0, null, 0.0, 0.23414634146341465, null, 0.23414634146341465, 0.44552845528455287, null, 0.44552845528455287, 0.6130081300813008, null, 0.44552845528455287, 0.624390243902439, null, 0.44552845528455287, 0.26991869918699185, null, 0.44552845528455287, 0.5138211382113821, null, 0.6130081300813008, 0.624390243902439, null, 1.0, 0.9951219512195122, null, 1.0, 0.8357723577235773, null, 0.624390243902439, 0.8357723577235773, null, 0.8357723577235773, 0.7626016260162601, null, 0.9951219512195122, 0.7626016260162601, null, 0.5138211382113821, 0.7626016260162601, null], \"y\": [1.0, 0.736734693877551, null, 0.8673469387755102, 0.6714285714285715, null, 0.736734693877551, 0.6714285714285715, null, 0.736734693877551, 0.4285714285714286, null, 0.6714285714285715, 0.5326530612244897, null, 0.6714285714285715, 0.44897959183673475, null, 0.5061224489795919, 0.48367346938775513, null, 0.48367346938775513, 0.4285714285714286, null, 0.4285714285714286, 0.5326530612244897, null, 0.4285714285714286, 0.33673469387755106, null, 0.4285714285714286, 0.2204081632653061, null, 0.4285714285714286, 0.09999999999999998, null, 0.5326530612244897, 0.33673469387755106, null, 0.44897959183673475, 0.17755102040816328, null, 0.44897959183673475, 0.2020408163265306, null, 0.33673469387755106, 0.2020408163265306, null, 0.2020408163265306, 0.0, null, 0.17755102040816328, 0.0, null, 0.09999999999999998, 0.0, null], \"type\": \"scatter\", \"uid\": \"16292bc6-bdbd-11e8-9033-784f43a1779a\"}, {\"hoverinfo\": \"none\", \"marker\": {\"color\": \"rgb(255, 255, 255)\", \"line\": {\"color\": \"rgb(0, 0, 0)\", \"width\": 1}, \"size\": 10}, \"mode\": \"markers+text\", \"text\": [\"ginori\", \"lambertes\", \"albizzi\", \"guadagni\", \"pazzi\", \"salviati\", \"medici\", \"tornabuon\", \"bischeri\", \"ridolfi\", \"acciaiuol\", \"strozzi\", \"peruzzi\", \"barbadori\", \"castellan\"], \"textfont\": {\"color\": \"rgb(0, 0, 0)\"}, \"textposition\": \"top center\", \"x\": [0.5138211382113821, 0.9658536585365853, 0.5609756097560976, 0.8097560975609757, 0.0, 0.23414634146341465, 0.44552845528455287, 0.6130081300813008, 1.0, 0.624390243902439, 0.26991869918699185, 0.8357723577235773, 0.9951219512195122, 0.5138211382113821, 0.7626016260162601], \"y\": [1.0, 0.8673469387755102, 0.736734693877551, 0.6714285714285715, 0.5061224489795919, 0.48367346938775513, 0.4285714285714286, 0.5326530612244897, 0.44897959183673475, 0.33673469387755106, 0.2204081632653061, 0.2020408163265306, 0.17755102040816328, 0.09999999999999998, 0.0], \"type\": \"scatter\", \"uid\": \"16292cf2-bdbd-11e8-9033-784f43a1779a\"}], {\"height\": 450, \"margin\": {\"b\": 0, \"l\": 0, \"r\": 0, \"t\": 0}, \"showlegend\": false, \"width\": 800, \"xaxis\": {\"showgrid\": false, \"showticklabels\": false, \"zeroline\": false}, \"yaxis\": {\"showgrid\": false, \"showticklabels\": false, \"zeroline\": false}}, {\"showLink\": false, \"linkText\": \"Export to plot.ly\", \"displayModeBar\": false})});</script>"
      ]
     },
     "metadata": {},
     "output_type": "display_data"
    }
   ],
   "source": [
    "g = sn.load_graph('Renaissance.gml', has_pos=True)\n",
    "\n",
    "sn.show_graph(g, nlab=True)"
   ]
  },
  {
   "cell_type": "markdown",
   "metadata": {},
   "source": [
    "Função que registra, em cada nó, seus sucessores em geodésicas de $s$ a $t$."
   ]
  },
  {
   "cell_type": "code",
   "execution_count": 4,
   "metadata": {},
   "outputs": [],
   "source": [
    "def set_geodesic_successors(g, s, t):\n",
    "    for n in g.nodes:\n",
    "        g.nodes[n]['geodesic_successors'] = set()\n",
    "\n",
    "    for p in nx.all_shortest_paths(g, s, t):\n",
    "        for i in range(len(p) - 1):\n",
    "            g.nodes[p[i]]['geodesic_successors'].add(p[i + 1])\n",
    "\n",
    "    for n in g.nodes:\n",
    "        g.nodes[n]['geodesic_successors'] = list(g.nodes[n]['geodesic_successors'])"
   ]
  },
  {
   "cell_type": "markdown",
   "metadata": {},
   "source": [
    "Funções que representam uma escolha aleatória de sucessor para diferentes tipos de trajetórias."
   ]
  },
  {
   "cell_type": "code",
   "execution_count": 5,
   "metadata": {},
   "outputs": [],
   "source": [
    "# Pense que o atributo 'passages' abaixo indica quantas\n",
    "# vezes um fluxo já passou por um nó ou por uma aresta.\n",
    "\n",
    "def random_geodesic_successor(g, n):\n",
    "    return choice(g.nodes[n]['geodesic_successors'])\n",
    "\n",
    "def random_path_successor(g, n):\n",
    "    return choice([m for m in g.neighbors(n) if g.nodes[m]['passages'] == 0])\n",
    "\n",
    "def random_trail_successor(g, n):\n",
    "    return choice([m for m in g.neighbors(n) if not g.edges[n, m]['passages'] == 0])\n",
    "\n",
    "def random_walk_successor(g, n):\n",
    "    return choice(g.neighbors(n))"
   ]
  },
  {
   "cell_type": "markdown",
   "metadata": {},
   "source": [
    "Função que faz uma simulação de fluxo de $s$ a $t$, que pode ou não ser bem-sucedida."
   ]
  },
  {
   "cell_type": "code",
   "execution_count": 6,
   "metadata": {},
   "outputs": [],
   "source": [
    "def simulate_single_flow(g, s, t, difusion='transfer', traj='geodesic'):\n",
    "    # Inicializa o atributo 'passages' de cada nó.\n",
    "    for n in g.nodes:\n",
    "        g.nodes[n]['passages'] = 0\n",
    "    g.nodes[s]['passages'] = 1\n",
    "\n",
    "    # Inicializa o atributo 'passages' de cada aresta.\n",
    "    for n, m in g.edges:\n",
    "        g.edges[n, m]['passages'] = 0\n",
    "\n",
    "    # Inicializa s como o único dono do insumo.\n",
    "    for n in g.nodes:\n",
    "        g.nodes[n]['owner'] = False\n",
    "    g.nodes[s]['owner'] = True\n",
    "\n",
    "    # Simula o fluxo, contando o número total de passos.\n",
    "\n",
    "    steps = 0\n",
    "\n",
    "    while True:\n",
    "        # O conjunto reached representa todos os nós\n",
    "        # que o fluxo consegue alcançar no passo atual.\n",
    "        reached = set()\n",
    "\n",
    "        # Verifica cada um dos donos atuais do insumo.\n",
    "\n",
    "        owners = [n for n in g.nodes if g.nodes[n]['owner']]\n",
    "\n",
    "        for n in owners:\n",
    "            if difusion == 'transfer':\n",
    "                # Deixa de ser dono do insumo.\n",
    "                g.nodes[n]['owner'] = False\n",
    "            try:\n",
    "                if traj == 'geodesic':\n",
    "                    # Escolhe aleatoriamente um dos sucessores.\n",
    "                    m = random_geodesic_successor(g, n)\n",
    "                elif traj == 'path':\n",
    "                    m = random_path_successor(g, n)\n",
    "                elif traj == 'trail':\n",
    "                    m = random_trail_successor(g, n)\n",
    "                else:\n",
    "                    m = random_walk_successor(g, n)\n",
    "                    \n",
    "                # Incrementa o atributo 'passages' do nó.\n",
    "                g.nodes[m]['passages'] += 1\n",
    "\n",
    "                # Incrementa o atributo 'passages' da aresta.\n",
    "                g.edges[n, m]['passages'] += 1\n",
    "\n",
    "                # Registra que consegue alcançar esse nó.\n",
    "                reached.add(m)\n",
    "            except Exception as err:\n",
    "                pass\n",
    "\n",
    "            \n",
    "\n",
    "        # Todo nó alcançado passa a ser dono do insumo.\n",
    "\n",
    "        for n in reached:\n",
    "            g.nodes[n]['owner'] = True\n",
    "\n",
    "        # Isso conclui o passo atual da simulação.\n",
    "        steps += 1\n",
    "\n",
    "        # Se o passo alcançou t, chegamos ao fim da simulação.\n",
    "        # Ela foi bem-sucedida: devolvemos o número de passos.\n",
    "        if t in reached:\n",
    "            return steps\n",
    "\n",
    "        # Se o passo não alcançou ninguém, chegamos ao fim da\n",
    "        # simulação. Ela não foi bem-sucedida: devolvemos -1.\n",
    "        if not reached:\n",
    "            return -1"
   ]
  },
  {
   "cell_type": "markdown",
   "metadata": {},
   "source": [
    "Função que faz simulações de fluxo de $s$ a $t$ até uma ser bem-sucedida."
   ]
  },
  {
   "cell_type": "code",
   "execution_count": 7,
   "metadata": {},
   "outputs": [],
   "source": [
    "def simulate_successful_flow(g, s, t, difusion, traj):\n",
    "    set_geodesic_successors(g, s, t)\n",
    "\n",
    "    while True:\n",
    "        steps = simulate_single_flow(g, s, t, difusion, traj)\n",
    "\n",
    "        if steps != -1:\n",
    "            return steps"
   ]
  },
  {
   "cell_type": "markdown",
   "metadata": {},
   "source": [
    "Função que faz simulações de fluxo para todo $s$ e $t$ possíveis, e tira disso um *closeness simulado* e um *betweenness simulado*."
   ]
  },
  {
   "cell_type": "code",
   "execution_count": 8,
   "metadata": {},
   "outputs": [],
   "source": [
    "def simulate_all_flows(g, difusion, traj):\n",
    "    for n in g.nodes:\n",
    "        g.nodes[n]['closeness'] = 0\n",
    "        g.nodes[n]['betweenness'] = 0\n",
    "\n",
    "    for s, t in permutations(g.nodes, 2):\n",
    "        steps = simulate_successful_flow(g, s, t, difusion, traj)\n",
    "\n",
    "        g.nodes[s]['closeness'] += steps\n",
    "        for n in g.nodes:\n",
    "            if n != s and n != t:\n",
    "                g.nodes[n]['betweenness'] += g.nodes[n]['passages']\n",
    "\n",
    "    # Normalizações necessárias para comparar com os\n",
    "    # resultados analíticos. Não precisa entender.\n",
    "    for n in g.nodes:\n",
    "        g.nodes[n]['closeness'] = (g.number_of_nodes() - 1) / g.nodes[n]['closeness']\n",
    "        g.nodes[n]['betweenness'] /= (g.number_of_nodes() - 1) * (g.number_of_nodes() - 2)"
   ]
  },
  {
   "cell_type": "markdown",
   "metadata": {},
   "source": [
    "Média de *closeness simulado* e *betweenness simulado* para muitas repetições da simulação acima."
   ]
  },
  {
   "cell_type": "code",
   "execution_count": 9,
   "metadata": {},
   "outputs": [],
   "source": [
    "# TIMES = 1000\n",
    "\n",
    "\n",
    "# for n in g.nodes:\n",
    "#     g.nodes[n]['mean_closeness'] = 0\n",
    "#     g.nodes[n]['mean_betweenness'] = 0\n",
    "\n",
    "# for _ in range(TIMES):\n",
    "#     simulate_all_flows(g)\n",
    "\n",
    "#     for n in g.nodes:\n",
    "#         g.nodes[n]['mean_closeness'] += g.nodes[n]['closeness']\n",
    "#         g.nodes[n]['mean_betweenness'] += g.nodes[n]['betweenness']\n",
    "\n",
    "# for n in g.nodes:\n",
    "#     g.nodes[n]['mean_closeness'] /= TIMES\n",
    "#     g.nodes[n]['mean_betweenness'] /= TIMES"
   ]
  },
  {
   "cell_type": "markdown",
   "metadata": {},
   "source": [
    "Cálculo de *closeness* e *betweenness* a partir das funções prontas da NetworkX, para comparação."
   ]
  },
  {
   "cell_type": "code",
   "execution_count": 10,
   "metadata": {},
   "outputs": [],
   "source": [
    "# cc = nx.closeness_centrality(g)\n",
    "\n",
    "# bc = nx.betweenness_centrality(g)"
   ]
  },
  {
   "cell_type": "markdown",
   "metadata": {},
   "source": [
    "Construção de data frame só para comparar mais facilmente."
   ]
  },
  {
   "cell_type": "code",
   "execution_count": 11,
   "metadata": {},
   "outputs": [],
   "source": [
    "# pd.DataFrame({\n",
    "#     'família': [g.nodes[n]['label'] for n in g.nodes],\n",
    "#     'closeness simulado': [g.nodes[n]['mean_closeness'] for n in g.nodes],\n",
    "#     'closeness analítico': [cc[n] for n in g.nodes],\n",
    "#     'betweenness simulado': [g.nodes[n]['mean_betweenness'] for n in g.nodes],\n",
    "#     'betweenness analítico': [bc[n] for n in g.nodes],\n",
    "# })"
   ]
  },
  {
   "cell_type": "code",
   "execution_count": 12,
   "metadata": {},
   "outputs": [],
   "source": [
    "def test (g, difusion, traj):\n",
    "    TIMES = 1000\n",
    "\n",
    "\n",
    "    for n in g.nodes:\n",
    "        g.nodes[n]['mean_closeness'] = 0\n",
    "        g.nodes[n]['mean_betweenness'] = 0\n",
    "\n",
    "    for _ in tqdm(range(TIMES)):\n",
    "        simulate_all_flows(g, difusion, traj)\n",
    "\n",
    "        for n in g.nodes:\n",
    "            g.nodes[n]['mean_closeness'] += g.nodes[n]['closeness']\n",
    "            g.nodes[n]['mean_betweenness'] += g.nodes[n]['betweenness']\n",
    "\n",
    "    for n in g.nodes:\n",
    "        g.nodes[n]['mean_closeness'] /= TIMES\n",
    "        g.nodes[n]['mean_betweenness'] /= TIMES\n",
    "        \n",
    "    cc = nx.closeness_centrality(g)\n",
    "\n",
    "    bc = nx.betweenness_centrality(g)\n",
    "    print(\"GRÁFICO: {} com {}\".format(difusion, traj))\n",
    "    return pd.DataFrame({\n",
    "    'família': [g.nodes[n]['label'] for n in g.nodes],\n",
    "    'closeness simulado': [g.nodes[n]['mean_closeness'] for n in g.nodes],\n",
    "    'closeness analítico': [cc[n] for n in g.nodes],\n",
    "    'betweenness simulado': [g.nodes[n]['mean_betweenness'] for n in g.nodes],\n",
    "    'betweenness analítico': [bc[n] for n in g.nodes],\n",
    "    })"
   ]
  },
  {
   "cell_type": "code",
   "execution_count": null,
   "metadata": {},
   "outputs": [
    {
     "name": "stderr",
     "output_type": "stream",
     "text": [
      " 56%|█████▌    | 555/1000 [01:10<00:58,  7.67it/s]"
     ]
    }
   ],
   "source": [
    "trajectory = ['path', 'trail', 'walk', 'geodesic']\n",
    "# trajectory = ['path']\n",
    "\n",
    "difusion = ['transfer', 'duplicate']\n",
    "\n",
    "\n",
    "for i in range(len(trajectory)):\n",
    "    for j in range(len(difusion)):\n",
    "        test(g,difusion[j], trajectory[i])"
   ]
  },
  {
   "cell_type": "markdown",
   "metadata": {},
   "source": [
    "E agora, vamos pensar um pouco...\n",
    "\n",
    "* Onde você precisa mudar o código para usar uma *trajetória* que não seja a *geodésica*? (caminho, trilha, passeio)\n",
    "\n",
    "* Onde você precisa mudar o código para usar uma *difusão* que não seja a *transferência*? (duplicação)\n",
    "\n",
    "Considere então a seguinte **hipótese**:\n",
    "\n",
    ">Quando consideramos outros tipos de trajetória e outros tipos de difusão, os nós com maior *closeness simulado* e *betweenness simulado* não são necessariamente os nós com maior *closeness* e *betweenness* segundo as fórmulas clássicas. (que correspondem ao uso de geodésica e transferência na simulação)\n",
    "\n",
    "Queremos:\n",
    "\n",
    "1. Operacionalização e teste dessas hipótese. (Objetivo 3)\n",
    "2. Interpretação dos resultados na linguagem de Análise de Redes Sociais (Objetivo 4)\n",
    "\n",
    "Um *feedback* da atividade sobre *coreness no Jazz* será dado em breve, para vocês terem uma melhor referência do item 2."
   ]
  },
  {
   "cell_type": "code",
   "execution_count": null,
   "metadata": {},
   "outputs": [],
   "source": []
  }
 ],
 "metadata": {
  "kernelspec": {
   "display_name": "Python 3",
   "language": "python",
   "name": "python3"
  },
  "language_info": {
   "codemirror_mode": {
    "name": "ipython",
    "version": 3
   },
   "file_extension": ".py",
   "mimetype": "text/x-python",
   "name": "python",
   "nbconvert_exporter": "python",
   "pygments_lexer": "ipython3",
   "version": "3.7.0"
  }
 },
 "nbformat": 4,
 "nbformat_minor": 1
}
