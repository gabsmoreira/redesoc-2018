{
 "cells": [
  {
   "cell_type": "code",
   "execution_count": 2,
   "metadata": {},
   "outputs": [
    {
     "name": "stdout",
     "output_type": "stream",
     "text": [
      "Esperamos trabalhar no diretório\n",
      "/Users/gmore/Desktop/all/Insper/6º Semestre/Redes Sociais/redesoc-2018/Encontro02\n"
     ]
    }
   ],
   "source": [
    "import pandas as pd\n",
    "\n",
    "%matplotlib inline\n",
    "import matplotlib.pyplot as plt\n",
    "import matplotlib\n",
    "\n",
    "import os\n",
    "print('Esperamos trabalhar no diretório')\n",
    "print(os.getcwd())"
   ]
  },
  {
   "cell_type": "code",
   "execution_count": 3,
   "metadata": {
    "collapsed": true
   },
   "outputs": [],
   "source": [
    "data = pd.read_csv(\"cabreuva_limpa.csv\")"
   ]
  },
  {
   "cell_type": "code",
   "execution_count": 13,
   "metadata": {},
   "outputs": [
    {
     "data": {
      "text/plain": [
       "Unnamed: 0                                                 int64\n",
       "ESCOLA                                                    object\n",
       "NOME                                                      object\n",
       "TURMA                                                     object\n",
       "IDDEINQUIRIDO                                            float64\n",
       "DATADEIN�CIO                                              object\n",
       "IDADE                                                      int64\n",
       "ANODENASCIMENTO                                            int64\n",
       "SEXO                                                      object\n",
       "RELIGI�O                                                  object\n",
       "EVANGELICO                                                 int64\n",
       "RA�A                                                      object\n",
       "CORDEPELE                                                  int64\n",
       "BEMCONSIGOMESMO                                            int64\n",
       "ACREDITOEMSORTEMAISDOQUETRABALHO                           int64\n",
       "ALGOMEIMPEDEDECONQUISTARASCOISAS                           int64\n",
       "PLANOSSEMPRED�OERRADO                                      int64\n",
       "IN�TIL                                                     int64\n",
       "ACREDITONOSMEUSPLANOS                                      int64\n",
       "INCLUS�ODEPORTADORESDEDEFICI�NCIAEMSALASCOMUNS             int64\n",
       "FILHAL�SBICA                                               int64\n",
       "TANTOFAZBRANCOSOUNEGROS                                    int64\n",
       "IMPORTANTEESCOLASESPECIAISPARAPORTADORESDEDEFICI�NCIA      int64\n",
       "GAYSREVEJAMSUAOP��O                                        int64\n",
       "BRANCOSMAISDISCIPLINADOS                                   int64\n",
       "ALGUNSGRUPOSTEMMAISVALOR                                   int64\n",
       "USARFOR�ACONTRAOUTROS                                      int64\n",
       "TANTOFAZAMIGOSBRANCOSENEGROS                               int64\n",
       "NORMALUMGRUPOTERMAISOPORTUNIDADE                           int64\n",
       "GRUPOSSUPERIORESDEVEMCONDUZIR                              int64\n",
       "                                                          ...   \n",
       "PAIADOTIVO                                               float64\n",
       "M�E                                                      float64\n",
       "MADRASTA                                                 float64\n",
       "M�EADOTIVA                                               float64\n",
       "IRM�O                                                    float64\n",
       "IRM�                                                     float64\n",
       "AV�                                                      float64\n",
       "MEUCONJUGE                                               float64\n",
       "MEUFILHO                                                 float64\n",
       "OUTROSPARENTES                                           float64\n",
       "PESSOASQUEN�OS�OPARENTES                                 float64\n",
       "TRABALHODAM�E                                             object\n",
       "TRABALHODOPAI                                             object\n",
       "HORASNAINTERNETPARAESTUDAR                                 int64\n",
       "HORASNAINTERNETPARACOMUNICA��O                             int64\n",
       "HORASNAINTERNETPARAJOGAR                                   int64\n",
       "HORASNATELEVIS�O                                         float64\n",
       "X                                                         object\n",
       "entrevista                                                 int64\n",
       "escola                                                     int64\n",
       "escola_short                                              object\n",
       "serie                                                      int64\n",
       "eja                                                        int64\n",
       "idade                                                      int64\n",
       "grupo_idade                                                int64\n",
       "masculino                                                  int64\n",
       "religion                                                   int64\n",
       "religiao                                                   int64\n",
       "raca                                                       int64\n",
       "corpele                                                    int64\n",
       "Length: 117, dtype: object"
      ]
     },
     "execution_count": 13,
     "metadata": {},
     "output_type": "execute_result"
    }
   ],
   "source": [
    "data.dtypes"
   ]
  },
  {
   "cell_type": "code",
   "execution_count": 25,
   "metadata": {},
   "outputs": [],
   "source": [
    "def scatter_and_line(dataframe, column1, column2, xl, yl, title):\n",
    "    \"\"\" Recebe um dataframe e o nome de suas duas colunas, e faz\n",
    "        o scatterplot dos dois e tenta achar a reta de tendência\n",
    "    \"\"\"\n",
    "    a = dataframe[column1].cov(dataframe[column2]) / dataframe[column1].var()\n",
    "    b = dataframe[column2].mean() - a * dataframe[column1].mean()\n",
    "\n",
    "    dataframe.plot.scatter(x=column1, y=column2, color='red', title= title)\n",
    "\n",
    "    import matplotlib.pyplot as plt\n",
    "    plt.xlabel(xl)\n",
    "    plt.ylabel(yl)\n",
    "#     plt.ylim([200,50000])\n",
    "#     plt.xlim([0,120])\n",
    "    plt.plot((dataframe[column1].min(), dataframe[column1].max()), (a * dataframe[column1].min() + b, a * dataframe[column1].max() + b), color='blue',)\n",
    "    \n"
   ]
  },
  {
   "cell_type": "code",
   "execution_count": null,
   "metadata": {},
   "outputs": [],
   "source": []
  },
  {
   "cell_type": "code",
   "execution_count": 23,
   "metadata": {},
   "outputs": [],
   "source": [
    "def scatter_and_line(dataframe, column1, column2):\n",
    "    \"\"\" Recebe um dataframe e o nome de suas duas colunas, e faz\n",
    "        o scatterplot dos dois e tenta achar a reta de tendência\n",
    "    \"\"\"\n",
    "    a = dataframe[column1].cov(dataframe[column2]) / dataframe[column1].var()\n",
    "    b = dataframe[column2].mean() - a * dataframe[column1].mean()\n",
    "\n",
    "    dataframe.plot.scatter(x=column1, y=column2, color='red', title= 'Renda por idade 2014')\n",
    "\n",
    "    import matplotlib.pyplot as plt\n",
    "    plt.xlabel('Idade em anos')\n",
    "    plt.ylabel('Renda em R$')\n",
    "#     plt.ylim([200,50000])\n",
    "#     plt.xlim([0,120])\n",
    "    plt.plot((dataframe[column1].min(), dataframe[column1].max()), (a * dataframe[column1].min() + b, a * dataframe[column1].max() + b), color='blue',)\n",
    "    \n",
    "    \n"
   ]
  },
  {
   "cell_type": "code",
   "execution_count": null,
   "metadata": {
    "collapsed": true
   },
   "outputs": [],
   "source": []
  }
 ],
 "metadata": {
  "kernelspec": {
   "display_name": "Python 3",
   "language": "python",
   "name": "python3"
  },
  "language_info": {
   "codemirror_mode": {
    "name": "ipython",
    "version": 2
   },
   "file_extension": ".py",
   "mimetype": "text/x-python",
   "name": "python",
   "nbconvert_exporter": "python",
   "pygments_lexer": "ipython2",
   "version": "2.7.14"
  }
 },
 "nbformat": 4,
 "nbformat_minor": 2
}
